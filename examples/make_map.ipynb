{
 "cells": [
  {
   "cell_type": "code",
   "execution_count": null,
   "id": "a09a8acf-e8d0-455d-b58e-4c468d032558",
   "metadata": {},
   "outputs": [],
   "source": [
    "using Pkg\n",
    "Pkg.activate(\"../\")\n",
    "using TamboMap\n",
    "using GeoMakie: save\n",
    "using Colors"
   ]
  },
  {
   "cell_type": "markdown",
   "id": "447c10f2-94ae-4146-a0c5-92c494ff6771",
   "metadata": {},
   "source": [
    "# Load up all the institutions"
   ]
  },
  {
   "cell_type": "code",
   "execution_count": null,
   "id": "056a4656-d976-4f47-b4f8-0ba67f9b7160",
   "metadata": {},
   "outputs": [],
   "source": [
    "institutions = TamboMap.institutions_from_json(\"../institutions/\");"
   ]
  },
  {
   "cell_type": "markdown",
   "id": "0e650e55-7859-4d17-80fb-ceae5d7667b6",
   "metadata": {},
   "source": [
    "# Make the map"
   ]
  },
  {
   "cell_type": "code",
   "execution_count": null,
   "id": "9e7241c2-a134-4523-9626-654930771391",
   "metadata": {},
   "outputs": [],
   "source": [
    "map = make_map(institutions)\n",
    "display(map)\n",
    "save(\"TAMBO_map.png\", map)"
   ]
  },
  {
   "cell_type": "markdown",
   "id": "ae1486f6-f487-4431-9c6e-61e6dd5e7820",
   "metadata": {},
   "source": [
    "# Or if we want to do more collaboration with the Tambo convenience chain"
   ]
  },
  {
   "cell_type": "code",
   "execution_count": null,
   "id": "4852d686-5155-4d33-a8cd-33c167db9602",
   "metadata": {},
   "outputs": [],
   "source": [
    "map = make_map(institutions, ocean_color=:magenta3)\n",
    "display(map)\n",
    "save(\"branded_TAMBO_map.png\", map)"
   ]
  },
  {
   "cell_type": "markdown",
   "id": "7937c509-b035-4745-8ebe-7b4eeac1dbe5",
   "metadata": {},
   "source": [
    "# Or one inspired by the Miami Heat's iconic uniform"
   ]
  },
  {
   "cell_type": "code",
   "execution_count": null,
   "id": "ff50a4a9-8504-4c25-83eb-e23ade32d3b5",
   "metadata": {},
   "outputs": [],
   "source": [
    "map = make_map(\n",
    "    institutions, \n",
    "    ocean_color=colorant\"#002B82\",\n",
    "    country_color_yes=colorant\"#B75982\",\n",
    "    country_color_no=colorant\"#8BA5C1\"\n",
    ")\n",
    "\n",
    "save(\"TAMBO_map_miami_nights.png\", map)"
   ]
  }
 ],
 "metadata": {
  "kernelspec": {
   "display_name": "Julia 1.9.3",
   "language": "julia",
   "name": "julia-1.9"
  },
  "language_info": {
   "file_extension": ".jl",
   "mimetype": "application/julia",
   "name": "julia",
   "version": "1.9.3"
  }
 },
 "nbformat": 4,
 "nbformat_minor": 5
}
