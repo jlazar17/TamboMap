{
 "cells": [
  {
   "cell_type": "code",
   "execution_count": 1,
   "id": "a09a8acf-e8d0-455d-b58e-4c468d032558",
   "metadata": {},
   "outputs": [
    {
     "name": "stderr",
     "output_type": "stream",
     "text": [
      "\u001b[32m\u001b[1m  Activating\u001b[22m\u001b[39m project at `~/research/TamboMap`\n",
      "\u001b[36m\u001b[1m[ \u001b[22m\u001b[39m\u001b[36m\u001b[1mInfo: \u001b[22m\u001b[39mPrecompiling TamboMap [559d7682-380c-4d68-9dad-8c4c2a210f8f]\n"
     ]
    }
   ],
   "source": [
    "using Pkg\n",
    "Pkg.activate(\"../\")\n",
    "using TamboMap"
   ]
  },
  {
   "cell_type": "code",
   "execution_count": 2,
   "id": "961f2dd1-0dac-4af3-b582-6d5a5586f982",
   "metadata": {},
   "outputs": [],
   "source": [
    "using CairoMakie, GeoMakie"
   ]
  },
  {
   "cell_type": "code",
   "execution_count": 3,
   "id": "39ad8894-0554-4835-abb1-e100d69dd8ef",
   "metadata": {},
   "outputs": [
    {
     "data": {
      "text/plain": [
       "FeatureCollection with 180 Features"
      ]
     },
     "execution_count": 3,
     "metadata": {},
     "output_type": "execute_result"
    }
   ],
   "source": [
    "using GeoMakie.GeoJSON\n",
    "countries_file = GeoMakie.assetpath(\"vector\", \"countries.geo.json\")\n",
    "countries = GeoJSON.read(read(countries_file, String))"
   ]
  },
  {
   "cell_type": "code",
   "execution_count": 5,
   "id": "056a4656-d976-4f47-b4f8-0ba67f9b7160",
   "metadata": {},
   "outputs": [
    {
     "data": {
      "text/plain": [
       "13-element Vector{TamboMap.Institution}:\n",
       " TamboMap.Institution(\"Columbia University\", TamboMap.Location(\"United States of America\", \"New York\"))\n",
       " TamboMap.Institution(\"Donostia International Physics Center\", TamboMap.Location(\"Spain\", \"San Sebastián\"))\n",
       " TamboMap.Institution(\"Harvard University\", TamboMap.Location(\"United States of America\", \"Cambridge\"))\n",
       " TamboMap.Institution(\"Jet Propoulsion Laboratory\", TamboMap.Location(\"United States of America\", \"Pasadena\"))\n",
       " TamboMap.Institution(\"Niels Bohr Institute\", TamboMap.Location(\"Denmark\", \"Copenhagen\"))\n",
       " TamboMap.Institution(\"Pontifical Catholic University of Peru\", TamboMap.Location(\"Peru\", \"Lima\"))\n",
       " TamboMap.Institution(\"Queen's College\", TamboMap.Location(\"Canada\", \"Kingston\"))\n",
       " TamboMap.Institution(\"The Pennsylvania State University\", TamboMap.Location(\"United States of America\", \"State College\"))\n",
       " TamboMap.Institution(\"The University of Adelaide\", TamboMap.Location(\"Australia\", \"Adelaide\"))\n",
       " TamboMap.Institution(\"Universidade De Santiago De Compostela\", TamboMap.Location(\"Spain\", \"Santiago\"))\n",
       " TamboMap.Institution(\"Universite Catholique de Louvain\", TamboMap.Location(\"Belgium\", \"Louvain-la-Neuve\"))\n",
       " TamboMap.Institution(\"University of Nevada, Las Vegas\", TamboMap.Location(\"United States of America\", \"Las Vegas\"))\n",
       " TamboMap.Institution(\"University of the Basque Country\", TamboMap.Location(\"Spain\", \"Leioa\"))"
      ]
     },
     "execution_count": 5,
     "metadata": {},
     "output_type": "execute_result"
    }
   ],
   "source": [
    "institutions = TamboMap.institutions_from_json(\"../institutions/\")"
   ]
  },
  {
   "cell_type": "code",
   "execution_count": 6,
   "id": "f6036a66-75af-4dae-a0f5-8eae9eeec44d",
   "metadata": {},
   "outputs": [
    {
     "data": {
      "text/plain": [
       "make_map (generic function with 1 method)"
      ]
     },
     "execution_count": 6,
     "metadata": {},
     "output_type": "execute_result"
    }
   ],
   "source": [
    "function make_map(\n",
    "    institutions::Vector{TamboMap.Institution};\n",
    "    ocean_color = :black,\n",
    "    country_color_yes = :yellow,\n",
    "    country_color_no = :grey,\n",
    ")\n",
    "    lons = -180:180\n",
    "    lats = -90:90\n",
    "    \n",
    "    inst_countries = getfield.(getfield.(institutions, :location), :country)\n",
    "    \n",
    "    color = [\n",
    "        country.name in inst_countries ? country_color_yes : country_color_no \n",
    "        for country in countries\n",
    "    ]\n",
    "\n",
    "    map = Figure()\n",
    "    ax = GeoAxis(map[1,1])\n",
    "    field = [1 for _ in lons, _ in lats]\n",
    "\n",
    "    surface!(ax, lons, lats, field; colormap=[ocean_color, ocean_color])\n",
    "\n",
    "    hm = poly!(ax, countries; color=color,\n",
    "        strokecolor = :black, strokewidth = 0.5,\n",
    "    )\n",
    "    translate!(hm, 0, 0, 100) # move above surface plot\n",
    "\n",
    "    return map\n",
    "end"
   ]
  },
  {
   "cell_type": "code",
   "execution_count": null,
   "id": "9e7241c2-a134-4523-9626-654930771391",
   "metadata": {},
   "outputs": [],
   "source": [
    "make_map(institutions)"
   ]
  },
  {
   "cell_type": "code",
   "execution_count": null,
   "id": "8785a572-70f8-40bc-addb-5bc6baab700f",
   "metadata": {},
   "outputs": [],
   "source": []
  }
 ],
 "metadata": {
  "kernelspec": {
   "display_name": "Julia 1.9.3",
   "language": "julia",
   "name": "julia-1.9"
  },
  "language_info": {
   "file_extension": ".jl",
   "mimetype": "application/julia",
   "name": "julia",
   "version": "1.9.3"
  }
 },
 "nbformat": 4,
 "nbformat_minor": 5
}
